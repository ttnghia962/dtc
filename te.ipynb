{
 "cells": [
  {
   "cell_type": "code",
   "execution_count": 1,
   "metadata": {},
   "outputs": [],
   "source": [
    "import pandas as pd\n",
    "df= pd.read_excel('DTC_name_total.xlsx')\n"
   ]
  },
  {
   "cell_type": "code",
   "execution_count": 4,
   "metadata": {},
   "outputs": [],
   "source": [
    "df['DTC'] = df['DTC Name'].str.split(' ').str[0]\n",
    "df['Make'] = df['Make'] = df['DTC Name'].apply(lambda x: x.split(' ')[1] if isinstance(x, str) and len(x.split(' ')) > 1 else None)\n"
   ]
  },
  {
   "cell_type": "code",
   "execution_count": 6,
   "metadata": {},
   "outputs": [
    {
     "data": {
      "text/html": [
       "<div>\n",
       "<style scoped>\n",
       "    .dataframe tbody tr th:only-of-type {\n",
       "        vertical-align: middle;\n",
       "    }\n",
       "\n",
       "    .dataframe tbody tr th {\n",
       "        vertical-align: top;\n",
       "    }\n",
       "\n",
       "    .dataframe thead th {\n",
       "        text-align: right;\n",
       "    }\n",
       "</style>\n",
       "<table border=\"1\" class=\"dataframe\">\n",
       "  <thead>\n",
       "    <tr style=\"text-align: right;\">\n",
       "      <th></th>\n",
       "      <th>DTC Name</th>\n",
       "      <th>From</th>\n",
       "      <th>DTC</th>\n",
       "      <th>Make</th>\n",
       "    </tr>\n",
       "  </thead>\n",
       "  <tbody>\n",
       "    <tr>\n",
       "      <th>0</th>\n",
       "      <td>P0278</td>\n",
       "      <td>Batch 1 - May 1</td>\n",
       "      <td>P0278</td>\n",
       "      <td>None</td>\n",
       "    </tr>\n",
       "    <tr>\n",
       "      <th>1</th>\n",
       "      <td>P0278 Audi</td>\n",
       "      <td>Batch 1 - May 1</td>\n",
       "      <td>P0278</td>\n",
       "      <td>Audi</td>\n",
       "    </tr>\n",
       "    <tr>\n",
       "      <th>2</th>\n",
       "      <td>P0278 Ford</td>\n",
       "      <td>Batch 1 - May 1</td>\n",
       "      <td>P0278</td>\n",
       "      <td>Ford</td>\n",
       "    </tr>\n",
       "    <tr>\n",
       "      <th>3</th>\n",
       "      <td>P0278 Mercedes-Benz</td>\n",
       "      <td>Batch 1 - May 1</td>\n",
       "      <td>P0278</td>\n",
       "      <td>Mercedes-Benz</td>\n",
       "    </tr>\n",
       "    <tr>\n",
       "      <th>4</th>\n",
       "      <td>P0278 Volkswagen</td>\n",
       "      <td>Batch 1 - May 1</td>\n",
       "      <td>P0278</td>\n",
       "      <td>Volkswagen</td>\n",
       "    </tr>\n",
       "    <tr>\n",
       "      <th>5</th>\n",
       "      <td>P0725</td>\n",
       "      <td>Batch 1 - May 1</td>\n",
       "      <td>P0725</td>\n",
       "      <td>None</td>\n",
       "    </tr>\n",
       "    <tr>\n",
       "      <th>6</th>\n",
       "      <td>P0725 Acura</td>\n",
       "      <td>Batch 1 - May 1</td>\n",
       "      <td>P0725</td>\n",
       "      <td>Acura</td>\n",
       "    </tr>\n",
       "    <tr>\n",
       "      <th>7</th>\n",
       "      <td>P0725 Audi</td>\n",
       "      <td>Batch 1 - May 1</td>\n",
       "      <td>P0725</td>\n",
       "      <td>Audi</td>\n",
       "    </tr>\n",
       "    <tr>\n",
       "      <th>8</th>\n",
       "      <td>P0725 Chrysler</td>\n",
       "      <td>Batch 1 - May 1</td>\n",
       "      <td>P0725</td>\n",
       "      <td>Chrysler</td>\n",
       "    </tr>\n",
       "    <tr>\n",
       "      <th>9</th>\n",
       "      <td>P0725 Dodge</td>\n",
       "      <td>Batch 1 - May 1</td>\n",
       "      <td>P0725</td>\n",
       "      <td>Dodge</td>\n",
       "    </tr>\n",
       "  </tbody>\n",
       "</table>\n",
       "</div>"
      ],
      "text/plain": [
       "              DTC Name             From    DTC           Make\n",
       "0                P0278  Batch 1 - May 1  P0278           None\n",
       "1           P0278 Audi  Batch 1 - May 1  P0278           Audi\n",
       "2           P0278 Ford  Batch 1 - May 1  P0278           Ford\n",
       "3  P0278 Mercedes-Benz  Batch 1 - May 1  P0278  Mercedes-Benz\n",
       "4     P0278 Volkswagen  Batch 1 - May 1  P0278     Volkswagen\n",
       "5                P0725  Batch 1 - May 1  P0725           None\n",
       "6          P0725 Acura  Batch 1 - May 1  P0725          Acura\n",
       "7           P0725 Audi  Batch 1 - May 1  P0725           Audi\n",
       "8       P0725 Chrysler  Batch 1 - May 1  P0725       Chrysler\n",
       "9          P0725 Dodge  Batch 1 - May 1  P0725          Dodge"
      ]
     },
     "execution_count": 6,
     "metadata": {},
     "output_type": "execute_result"
    }
   ],
   "source": [
    "df.head(10)"
   ]
  },
  {
   "cell_type": "code",
   "execution_count": null,
   "metadata": {},
   "outputs": [],
   "source": []
  }
 ],
 "metadata": {
  "kernelspec": {
   "display_name": "pipenv",
   "language": "python",
   "name": "python3"
  },
  "language_info": {
   "codemirror_mode": {
    "name": "ipython",
    "version": 3
   },
   "file_extension": ".py",
   "mimetype": "text/x-python",
   "name": "python",
   "nbconvert_exporter": "python",
   "pygments_lexer": "ipython3",
   "version": "3.12.3"
  }
 },
 "nbformat": 4,
 "nbformat_minor": 2
}
